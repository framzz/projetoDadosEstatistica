{
 "cells": [
  {
   "cell_type": "code",
   "execution_count": 12,
   "metadata": {},
   "outputs": [],
   "source": [
    "# bibliotecas necessarias para a parte de transformação e limpeza do projeto\n",
    "import pandas as pd\n",
    "import matplotlib.pyplot as plt"
   ]
  },
  {
   "cell_type": "code",
   "execution_count": 13,
   "metadata": {},
   "outputs": [
    {
     "data": {
      "text/html": [
       "<div>\n",
       "<style scoped>\n",
       "    .dataframe tbody tr th:only-of-type {\n",
       "        vertical-align: middle;\n",
       "    }\n",
       "\n",
       "    .dataframe tbody tr th {\n",
       "        vertical-align: top;\n",
       "    }\n",
       "\n",
       "    .dataframe thead th {\n",
       "        text-align: right;\n",
       "    }\n",
       "</style>\n",
       "<table border=\"1\" class=\"dataframe\">\n",
       "  <thead>\n",
       "    <tr style=\"text-align: right;\">\n",
       "      <th></th>\n",
       "      <th>id</th>\n",
       "      <th>titleType</th>\n",
       "      <th>primaryTitle</th>\n",
       "      <th>originalTitle</th>\n",
       "      <th>isAdult</th>\n",
       "      <th>startYear</th>\n",
       "      <th>endYear</th>\n",
       "      <th>runtimeMinutes</th>\n",
       "      <th>genres</th>\n",
       "      <th>averageRating</th>\n",
       "      <th>numVotes</th>\n",
       "    </tr>\n",
       "  </thead>\n",
       "  <tbody>\n",
       "    <tr>\n",
       "      <th>0</th>\n",
       "      <td>tt0000002</td>\n",
       "      <td>SHORT</td>\n",
       "      <td>LE CLOWN ET SES CHIENS</td>\n",
       "      <td>LE CLOWN ET SES CHIENS</td>\n",
       "      <td>0</td>\n",
       "      <td>1892.0</td>\n",
       "      <td>NaN</td>\n",
       "      <td>5.0</td>\n",
       "      <td>ANIMATION,SHORT</td>\n",
       "      <td>6.0</td>\n",
       "      <td>233.0</td>\n",
       "    </tr>\n",
       "    <tr>\n",
       "      <th>1</th>\n",
       "      <td>tt0000004</td>\n",
       "      <td>SHORT</td>\n",
       "      <td>UN BON BOCK</td>\n",
       "      <td>UN BON BOCK</td>\n",
       "      <td>0</td>\n",
       "      <td>1892.0</td>\n",
       "      <td>NaN</td>\n",
       "      <td>12.0</td>\n",
       "      <td>ANIMATION,SHORT</td>\n",
       "      <td>6.1</td>\n",
       "      <td>152.0</td>\n",
       "    </tr>\n",
       "    <tr>\n",
       "      <th>2</th>\n",
       "      <td>tt0000008</td>\n",
       "      <td>SHORT</td>\n",
       "      <td>EDISON KINETOSCOPIC RECORD OF A SNEEZE</td>\n",
       "      <td>EDISON KINETOSCOPIC RECORD OF A SNEEZE</td>\n",
       "      <td>0</td>\n",
       "      <td>1894.0</td>\n",
       "      <td>NaN</td>\n",
       "      <td>1.0</td>\n",
       "      <td>DOCUMENTARY,SHORT</td>\n",
       "      <td>5.5</td>\n",
       "      <td>1965.0</td>\n",
       "    </tr>\n",
       "    <tr>\n",
       "      <th>3</th>\n",
       "      <td>tt0000015</td>\n",
       "      <td>SHORT</td>\n",
       "      <td>AUTOUR D'UNE CABINE</td>\n",
       "      <td>AUTOUR D'UNE CABINE</td>\n",
       "      <td>0</td>\n",
       "      <td>1894.0</td>\n",
       "      <td>NaN</td>\n",
       "      <td>2.0</td>\n",
       "      <td>ANIMATION,SHORT</td>\n",
       "      <td>6.2</td>\n",
       "      <td>947.0</td>\n",
       "    </tr>\n",
       "    <tr>\n",
       "      <th>4</th>\n",
       "      <td>tt0000017</td>\n",
       "      <td>SHORT</td>\n",
       "      <td>ITALIENISCHER BAUERNTANZ</td>\n",
       "      <td>ITALIENISCHER BAUERNTANZ</td>\n",
       "      <td>0</td>\n",
       "      <td>1895.0</td>\n",
       "      <td>NaN</td>\n",
       "      <td>1.0</td>\n",
       "      <td>DOCUMENTARY,SHORT</td>\n",
       "      <td>4.6</td>\n",
       "      <td>292.0</td>\n",
       "    </tr>\n",
       "    <tr>\n",
       "      <th>...</th>\n",
       "      <td>...</td>\n",
       "      <td>...</td>\n",
       "      <td>...</td>\n",
       "      <td>...</td>\n",
       "      <td>...</td>\n",
       "      <td>...</td>\n",
       "      <td>...</td>\n",
       "      <td>...</td>\n",
       "      <td>...</td>\n",
       "      <td>...</td>\n",
       "      <td>...</td>\n",
       "    </tr>\n",
       "    <tr>\n",
       "      <th>1995</th>\n",
       "      <td>tt7804296</td>\n",
       "      <td>TVEPISODE</td>\n",
       "      <td>28TH DECEMBER 2017 LATE NEWS</td>\n",
       "      <td>28TH DECEMBER 2017 LATE NEWS</td>\n",
       "      <td>0</td>\n",
       "      <td>2017.0</td>\n",
       "      <td>NaN</td>\n",
       "      <td>NaN</td>\n",
       "      <td>NEWS</td>\n",
       "      <td>NaN</td>\n",
       "      <td>NaN</td>\n",
       "    </tr>\n",
       "    <tr>\n",
       "      <th>1996</th>\n",
       "      <td>tt7804310</td>\n",
       "      <td>TVEPISODE</td>\n",
       "      <td>EITELKEITEN</td>\n",
       "      <td>EITELKEITEN</td>\n",
       "      <td>0</td>\n",
       "      <td>1985.0</td>\n",
       "      <td>NaN</td>\n",
       "      <td>NaN</td>\n",
       "      <td>FAMILY</td>\n",
       "      <td>NaN</td>\n",
       "      <td>NaN</td>\n",
       "    </tr>\n",
       "    <tr>\n",
       "      <th>1997</th>\n",
       "      <td>tt7804320</td>\n",
       "      <td>TVEPISODE</td>\n",
       "      <td>EPISODE #1.7</td>\n",
       "      <td>EPISODE #1.7</td>\n",
       "      <td>0</td>\n",
       "      <td>2017.0</td>\n",
       "      <td>NaN</td>\n",
       "      <td>NaN</td>\n",
       "      <td>DRAMA</td>\n",
       "      <td>NaN</td>\n",
       "      <td>NaN</td>\n",
       "    </tr>\n",
       "    <tr>\n",
       "      <th>1998</th>\n",
       "      <td>tt7804336</td>\n",
       "      <td>VIDEO</td>\n",
       "      <td>SEX MACHINE</td>\n",
       "      <td>SEX MACHINE</td>\n",
       "      <td>1</td>\n",
       "      <td>1995.0</td>\n",
       "      <td>NaN</td>\n",
       "      <td>60.0</td>\n",
       "      <td>ADULT</td>\n",
       "      <td>2.7</td>\n",
       "      <td>6.0</td>\n",
       "    </tr>\n",
       "    <tr>\n",
       "      <th>1999</th>\n",
       "      <td>tt7804370</td>\n",
       "      <td>SHORT</td>\n",
       "      <td>BIONIC</td>\n",
       "      <td>BIONIC</td>\n",
       "      <td>0</td>\n",
       "      <td>2011.0</td>\n",
       "      <td>NaN</td>\n",
       "      <td>3.0</td>\n",
       "      <td>SCI-FI,SHORT</td>\n",
       "      <td>5.1</td>\n",
       "      <td>27.0</td>\n",
       "    </tr>\n",
       "  </tbody>\n",
       "</table>\n",
       "<p>2000 rows × 11 columns</p>\n",
       "</div>"
      ],
      "text/plain": [
       "             id  titleType                            primaryTitle  \\\n",
       "0     tt0000002      SHORT                  LE CLOWN ET SES CHIENS   \n",
       "1     tt0000004      SHORT                             UN BON BOCK   \n",
       "2     tt0000008      SHORT  EDISON KINETOSCOPIC RECORD OF A SNEEZE   \n",
       "3     tt0000015      SHORT                     AUTOUR D'UNE CABINE   \n",
       "4     tt0000017      SHORT                ITALIENISCHER BAUERNTANZ   \n",
       "...         ...        ...                                     ...   \n",
       "1995  tt7804296  TVEPISODE            28TH DECEMBER 2017 LATE NEWS   \n",
       "1996  tt7804310  TVEPISODE                             EITELKEITEN   \n",
       "1997  tt7804320  TVEPISODE                            EPISODE #1.7   \n",
       "1998  tt7804336      VIDEO                             SEX MACHINE   \n",
       "1999  tt7804370      SHORT                                  BIONIC   \n",
       "\n",
       "                               originalTitle  isAdult  startYear  endYear  \\\n",
       "0                     LE CLOWN ET SES CHIENS        0     1892.0      NaN   \n",
       "1                                UN BON BOCK        0     1892.0      NaN   \n",
       "2     EDISON KINETOSCOPIC RECORD OF A SNEEZE        0     1894.0      NaN   \n",
       "3                        AUTOUR D'UNE CABINE        0     1894.0      NaN   \n",
       "4                   ITALIENISCHER BAUERNTANZ        0     1895.0      NaN   \n",
       "...                                      ...      ...        ...      ...   \n",
       "1995            28TH DECEMBER 2017 LATE NEWS        0     2017.0      NaN   \n",
       "1996                             EITELKEITEN        0     1985.0      NaN   \n",
       "1997                            EPISODE #1.7        0     2017.0      NaN   \n",
       "1998                             SEX MACHINE        1     1995.0      NaN   \n",
       "1999                                  BIONIC        0     2011.0      NaN   \n",
       "\n",
       "      runtimeMinutes             genres  averageRating  numVotes  \n",
       "0                5.0    ANIMATION,SHORT            6.0     233.0  \n",
       "1               12.0    ANIMATION,SHORT            6.1     152.0  \n",
       "2                1.0  DOCUMENTARY,SHORT            5.5    1965.0  \n",
       "3                2.0    ANIMATION,SHORT            6.2     947.0  \n",
       "4                1.0  DOCUMENTARY,SHORT            4.6     292.0  \n",
       "...              ...                ...            ...       ...  \n",
       "1995             NaN               NEWS            NaN       NaN  \n",
       "1996             NaN             FAMILY            NaN       NaN  \n",
       "1997             NaN              DRAMA            NaN       NaN  \n",
       "1998            60.0              ADULT            2.7       6.0  \n",
       "1999             3.0       SCI-FI,SHORT            5.1      27.0  \n",
       "\n",
       "[2000 rows x 11 columns]"
      ]
     },
     "metadata": {},
     "output_type": "display_data"
    }
   ],
   "source": [
    "# importando os dados\n",
    "df = pd.read_csv(\"processed_data/imdb_processed_data.csv\", delimiter=\";\")\n",
    "display(df)"
   ]
  },
  {
   "cell_type": "markdown",
   "metadata": {},
   "source": [
    "Com um .describe() e .corr() podemos ver alguns dados interessantes dentro do dataframe para ser um ponto inicial em nossa análise:"
   ]
  },
  {
   "cell_type": "code",
   "execution_count": 38,
   "metadata": {},
   "outputs": [
    {
     "name": "stdout",
     "output_type": "stream",
     "text": [
      "Matriz de Correlação:\n",
      "                startYear  runtimeMinutes  averageRating  numVotes\n",
      "startYear        1.000000        0.255751       0.612617  0.010072\n",
      "runtimeMinutes   0.255751        1.000000       0.186727  0.049964\n",
      "averageRating    0.612617        0.186727       1.000000  0.087983\n",
      "numVotes         0.010072        0.049964       0.087983  1.000000\n"
     ]
    }
   ],
   "source": [
    "correlation_matrix = df[['startYear', 'runtimeMinutes', 'averageRating', 'numVotes']].corr()\n",
    "print(\"Matriz de Correlação:\")\n",
    "print(correlation_matrix)"
   ]
  },
  {
   "cell_type": "markdown",
   "metadata": {},
   "source": [
    "Vemos que a maior correlação entre as colunas está entre a coluna startYear e a coluna avarageRating. Mais adiante utilizaremos essa informação. O restante não é relevante para nossa análise."
   ]
  },
  {
   "cell_type": "code",
   "execution_count": 14,
   "metadata": {},
   "outputs": [
    {
     "data": {
      "text/html": [
       "<div>\n",
       "<style scoped>\n",
       "    .dataframe tbody tr th:only-of-type {\n",
       "        vertical-align: middle;\n",
       "    }\n",
       "\n",
       "    .dataframe tbody tr th {\n",
       "        vertical-align: top;\n",
       "    }\n",
       "\n",
       "    .dataframe thead th {\n",
       "        text-align: right;\n",
       "    }\n",
       "</style>\n",
       "<table border=\"1\" class=\"dataframe\">\n",
       "  <thead>\n",
       "    <tr style=\"text-align: right;\">\n",
       "      <th></th>\n",
       "      <th>isAdult</th>\n",
       "      <th>startYear</th>\n",
       "      <th>endYear</th>\n",
       "      <th>runtimeMinutes</th>\n",
       "      <th>averageRating</th>\n",
       "      <th>numVotes</th>\n",
       "    </tr>\n",
       "  </thead>\n",
       "  <tbody>\n",
       "    <tr>\n",
       "      <th>count</th>\n",
       "      <td>2000.000000</td>\n",
       "      <td>1684.000000</td>\n",
       "      <td>24.000000</td>\n",
       "      <td>587.000000</td>\n",
       "      <td>326.000000</td>\n",
       "      <td>326.000000</td>\n",
       "    </tr>\n",
       "    <tr>\n",
       "      <th>mean</th>\n",
       "      <td>0.048500</td>\n",
       "      <td>1992.809976</td>\n",
       "      <td>2008.666667</td>\n",
       "      <td>31.872232</td>\n",
       "      <td>6.477301</td>\n",
       "      <td>210.917178</td>\n",
       "    </tr>\n",
       "    <tr>\n",
       "      <th>std</th>\n",
       "      <td>0.214874</td>\n",
       "      <td>37.993473</td>\n",
       "      <td>13.222730</td>\n",
       "      <td>36.252419</td>\n",
       "      <td>1.382653</td>\n",
       "      <td>1123.662888</td>\n",
       "    </tr>\n",
       "    <tr>\n",
       "      <th>min</th>\n",
       "      <td>0.000000</td>\n",
       "      <td>1892.000000</td>\n",
       "      <td>1972.000000</td>\n",
       "      <td>1.000000</td>\n",
       "      <td>2.700000</td>\n",
       "      <td>5.000000</td>\n",
       "    </tr>\n",
       "    <tr>\n",
       "      <th>25%</th>\n",
       "      <td>0.000000</td>\n",
       "      <td>1990.000000</td>\n",
       "      <td>2005.000000</td>\n",
       "      <td>10.000000</td>\n",
       "      <td>5.500000</td>\n",
       "      <td>13.000000</td>\n",
       "    </tr>\n",
       "    <tr>\n",
       "      <th>50%</th>\n",
       "      <td>0.000000</td>\n",
       "      <td>2010.000000</td>\n",
       "      <td>2014.500000</td>\n",
       "      <td>21.000000</td>\n",
       "      <td>6.450000</td>\n",
       "      <td>27.000000</td>\n",
       "    </tr>\n",
       "    <tr>\n",
       "      <th>75%</th>\n",
       "      <td>0.000000</td>\n",
       "      <td>2016.000000</td>\n",
       "      <td>2017.250000</td>\n",
       "      <td>43.000000</td>\n",
       "      <td>7.500000</td>\n",
       "      <td>105.500000</td>\n",
       "    </tr>\n",
       "    <tr>\n",
       "      <th>max</th>\n",
       "      <td>1.000000</td>\n",
       "      <td>2021.000000</td>\n",
       "      <td>2020.000000</td>\n",
       "      <td>302.000000</td>\n",
       "      <td>9.800000</td>\n",
       "      <td>18983.000000</td>\n",
       "    </tr>\n",
       "  </tbody>\n",
       "</table>\n",
       "</div>"
      ],
      "text/plain": [
       "           isAdult    startYear      endYear  runtimeMinutes  averageRating  \\\n",
       "count  2000.000000  1684.000000    24.000000      587.000000     326.000000   \n",
       "mean      0.048500  1992.809976  2008.666667       31.872232       6.477301   \n",
       "std       0.214874    37.993473    13.222730       36.252419       1.382653   \n",
       "min       0.000000  1892.000000  1972.000000        1.000000       2.700000   \n",
       "25%       0.000000  1990.000000  2005.000000       10.000000       5.500000   \n",
       "50%       0.000000  2010.000000  2014.500000       21.000000       6.450000   \n",
       "75%       0.000000  2016.000000  2017.250000       43.000000       7.500000   \n",
       "max       1.000000  2021.000000  2020.000000      302.000000       9.800000   \n",
       "\n",
       "           numVotes  \n",
       "count    326.000000  \n",
       "mean     210.917178  \n",
       "std     1123.662888  \n",
       "min        5.000000  \n",
       "25%       13.000000  \n",
       "50%       27.000000  \n",
       "75%      105.500000  \n",
       "max    18983.000000  "
      ]
     },
     "execution_count": 14,
     "metadata": {},
     "output_type": "execute_result"
    }
   ],
   "source": [
    "df.describe()"
   ]
  },
  {
   "cell_type": "markdown",
   "metadata": {},
   "source": [
    "Vemos que existem títulos dentro do dataframe que foram lançados de 1892 até 2021. Podemos tirar mais informações do dataframe a partir desses dados. Além disso, também temos o ano \"final\" - que existe para séries, provavelmente.\n",
    "\n",
    "Porém, para entender ainda melhor o dataframe, veremos quais os tipos de títulos que existem dentro dele, assim, poderemos analisá-lo de uma forma mais profunda."
   ]
  },
  {
   "cell_type": "code",
   "execution_count": 23,
   "metadata": {},
   "outputs": [
    {
     "data": {
      "text/plain": [
       "0              SHORT\n",
       "66             MOVIE\n",
       "236        TVEPISODE\n",
       "241         TVSERIES\n",
       "246          TVMOVIE\n",
       "262            VIDEO\n",
       "263        TVSPECIAL\n",
       "272     TVMINISERIES\n",
       "275          TVSHORT\n",
       "1512       VIDEOGAME\n",
       "Name: titleType, dtype: object"
      ]
     },
     "execution_count": 23,
     "metadata": {},
     "output_type": "execute_result"
    }
   ],
   "source": [
    "# descobrindo os tipos de titulos existentes no dataframe\n",
    "distinct_types = df['titleType'].drop_duplicates()\n",
    "distinct_types.head(10)"
   ]
  },
  {
   "cell_type": "markdown",
   "metadata": {},
   "source": [
    "Ao entender que existem vários tipos de títulos, podemos fazer uma contagem de quantos títulos cada tipo tem dentro do dataframe. Com essas informações já conseguimos plotar um gráfico para melhorar nossa visualização:"
   ]
  },
  {
   "cell_type": "code",
   "execution_count": 16,
   "metadata": {},
   "outputs": [
    {
     "name": "stdout",
     "output_type": "stream",
     "text": [
      "titleType\n",
      "TVEPISODE       1341\n",
      "SHORT            397\n",
      "MOVIE             97\n",
      "VIDEO             65\n",
      "TVSERIES          57\n",
      "TVMOVIE           20\n",
      "TVSPECIAL          8\n",
      "TVMINISERIES       6\n",
      "VIDEOGAME          5\n",
      "TVSHORT            4\n",
      "Name: count, dtype: int64\n"
     ]
    }
   ],
   "source": [
    "count_types = df['titleType'].value_counts()\n",
    "print(count_types)"
   ]
  },
  {
   "cell_type": "code",
   "execution_count": 24,
   "metadata": {},
   "outputs": [
    {
     "data": {
      "image/png": "[encoded data removed]",
      "text/plain": [
       "<Figure size 500x500 with 1 Axes>"
      ]
     },
     "metadata": {},
     "output_type": "display_data"
    }
   ],
   "source": [
    "# pelos números retornados, pegaremos apenas os 6 mais recorrentes para plotar o gráfico e ter uma boa visualização\n",
    "count_types_top6 = count_types.head(5)\n",
    "\n",
    "plt.figure(figsize=(5, 5))\n",
    "plt.pie(count_types_top6, labels=count_types_top6.index, autopct='%1.1f%%', startangle=140)\n",
    "plt.title('Tipos de Títulos')\n",
    "plt.axis('equal')\n",
    "plt.show()"
   ]
  },
  {
   "cell_type": "markdown",
   "metadata": {},
   "source": [
    "Conseguimos ver que os episódios são os mais recorrentes dentro do dataframe. Provavelmente são episódios de séries de TV, que também existem na contagem. Logo após temos os curtas, que também tem uma grande quantidade em comparação aos outros tipos de títulos. Porém, temos que lembrar que essa base é apenas uma amostra da base original, que pode não retratar a realidade da origem.\n",
    "\n",
    "Faremos essa mesma análise com os anos existentes no dataframe, para conseguirmos entender quais anos foram mais recorrentes dentro do dataframe e tentar entender o motivo. Para isso, utilizaremos a coluna 'startYear':"
   ]
  },
  {
   "cell_type": "code",
   "execution_count": 18,
   "metadata": {},
   "outputs": [
    {
     "data": {
      "text/plain": [
       "startYear\n",
       "2013.0    163\n",
       "2016.0    136\n",
       "2009.0    104\n",
       "2019.0    104\n",
       "2010.0     96\n",
       "2018.0     77\n",
       "1911.0     69\n",
       "2017.0     62\n",
       "2020.0     59\n",
       "2008.0     57\n",
       "Name: count, dtype: int64"
      ]
     },
     "execution_count": 18,
     "metadata": {},
     "output_type": "execute_result"
    }
   ],
   "source": [
    "count_years = df['startYear'].value_counts()\n",
    "count_years.head(10)"
   ]
  },
  {
   "cell_type": "code",
   "execution_count": 19,
   "metadata": {},
   "outputs": [
    {
     "data": {
      "image/png": "[encoded data removed]",
      "text/plain": [
       "<Figure size 600x400 with 1 Axes>"
      ]
     },
     "metadata": {},
     "output_type": "display_data"
    }
   ],
   "source": [
    "count_years_top10 = count_years.head(10).sort_index(ascending=True)\n",
    "\n",
    "# criando um gráfico de barras horizontais para conseguir visualizar melhor os resultados\n",
    "plt.figure(figsize=(6, 4))\n",
    "count_years_top10.plot(kind='barh', color='skyblue')\n",
    "plt.title('Contagem dos anos com mais registros')\n",
    "plt.xlabel('Contagem')\n",
    "plt.ylabel('Ano')\n",
    "plt.show()"
   ]
  },
  {
   "cell_type": "code",
   "execution_count": 25,
   "metadata": {},
   "outputs": [
    {
     "data": {
      "text/plain": [
       "startYear\n",
       "2013.0    8.15\n",
       "2016.0    6.80\n",
       "2009.0    5.20\n",
       "2019.0    5.20\n",
       "2010.0    4.80\n",
       "2018.0    3.85\n",
       "1911.0    3.45\n",
       "2017.0    3.10\n",
       "2020.0    2.95\n",
       "2008.0    2.85\n",
       "Name: count, dtype: float64"
      ]
     },
     "execution_count": 25,
     "metadata": {},
     "output_type": "execute_result"
    }
   ],
   "source": [
    "# calculando a porcentagem de cada ano dentro do df\n",
    "porcentagem = (count_years / len(df)) * 100\n",
    "porcentagem.head(10)"
   ]
  },
  {
   "cell_type": "markdown",
   "metadata": {},
   "source": [
    "Acima podemos ver que, dos 10 anos com mais recorrencia de titulos, 9 são anos mais recentes - com menos de 20 anos. Apenas 3.45% dos dez anos mais recorrentes estão fora dessa época. Isso pode se dar, talvez, por conta da valorização midiatica e o uso da internet, onde o acesso para esses títulos fica muito mais simples."
   ]
  },
  {
   "cell_type": "markdown",
   "metadata": {},
   "source": [
    "Agora utilizaremos a questão da correlação entre as colunas startYear e avarageRating parar tirar mais algumas informações dessas colunas. Separaremos os anos existentes por décadas e, a partir disso, calcularemos a média de cada década existente no dataframe:"
   ]
  },
  {
   "cell_type": "code",
   "execution_count": 39,
   "metadata": {},
   "outputs": [
    {
     "data": {
      "text/plain": [
       "decade\n",
       "1890.0    4.796429\n",
       "1900.0    5.660417\n",
       "1910.0    5.356410\n",
       "1920.0         NaN\n",
       "1930.0         NaN\n",
       "1940.0         NaN\n",
       "1950.0         NaN\n",
       "1960.0    7.550000\n",
       "1970.0    7.900000\n",
       "1980.0    7.175000\n",
       "1990.0    6.715385\n",
       "2000.0    6.654167\n",
       "2010.0    7.147712\n",
       "2020.0    7.457143\n",
       "Name: averageRating, dtype: float64"
      ]
     },
     "execution_count": 39,
     "metadata": {},
     "output_type": "execute_result"
    }
   ],
   "source": [
    "# Calculando a década de lançamento de cada filme\n",
    "df_decade = df\n",
    "df_decade['decade'] = (df_decade['startYear'] // 10) * 10\n",
    "df.groupby('decade')['averageRating'].mean()"
   ]
  },
  {
   "cell_type": "markdown",
   "metadata": {},
   "source": [
    "É interessante perceber um aumento na média dos títulos a partir da década de 60 até a década de 80. Isso pode se dar por um efeito \"nostalgia\" que os espectadores têm ao consumir esses títulos. \n",
    "\n",
    "Títulos a partir da década de 2010 também voltam a ter uma média maior - provavelmente por conta da repercussão, qualidade e mudanças na indústria cinematográfica."
   ]
  },
  {
   "cell_type": "markdown",
   "metadata": {},
   "source": [
    "Também podemos analisar o titulo com maior número de votos, com o número máximo que foi encontrado atraves do .describe no inicio na análise. Com isso, podemos entender melhor as motivações dessa quantidade de votos:"
   ]
  },
  {
   "cell_type": "code",
   "execution_count": 20,
   "metadata": {},
   "outputs": [
    {
     "data": {
      "text/html": [
       "<div>\n",
       "<style scoped>\n",
       "    .dataframe tbody tr th:only-of-type {\n",
       "        vertical-align: middle;\n",
       "    }\n",
       "\n",
       "    .dataframe tbody tr th {\n",
       "        vertical-align: top;\n",
       "    }\n",
       "\n",
       "    .dataframe thead th {\n",
       "        text-align: right;\n",
       "    }\n",
       "</style>\n",
       "<table border=\"1\" class=\"dataframe\">\n",
       "  <thead>\n",
       "    <tr style=\"text-align: right;\">\n",
       "      <th></th>\n",
       "      <th>id</th>\n",
       "      <th>titleType</th>\n",
       "      <th>primaryTitle</th>\n",
       "      <th>originalTitle</th>\n",
       "      <th>isAdult</th>\n",
       "      <th>startYear</th>\n",
       "      <th>endYear</th>\n",
       "      <th>runtimeMinutes</th>\n",
       "      <th>genres</th>\n",
       "      <th>averageRating</th>\n",
       "      <th>numVotes</th>\n",
       "    </tr>\n",
       "  </thead>\n",
       "  <tbody>\n",
       "    <tr>\n",
       "      <th>839</th>\n",
       "      <td>tt13776714</td>\n",
       "      <td>TVEPISODE</td>\n",
       "      <td>PREVIOUSLY ON</td>\n",
       "      <td>PREVIOUSLY ON</td>\n",
       "      <td>0</td>\n",
       "      <td>2021.0</td>\n",
       "      <td>NaN</td>\n",
       "      <td>47.0</td>\n",
       "      <td>ACTION,COMEDY,DRAMA</td>\n",
       "      <td>9.0</td>\n",
       "      <td>18983.0</td>\n",
       "    </tr>\n",
       "  </tbody>\n",
       "</table>\n",
       "</div>"
      ],
      "text/plain": [
       "             id  titleType   primaryTitle  originalTitle  isAdult  startYear  \\\n",
       "839  tt13776714  TVEPISODE  PREVIOUSLY ON  PREVIOUSLY ON        0     2021.0   \n",
       "\n",
       "     endYear  runtimeMinutes               genres  averageRating  numVotes  \n",
       "839      NaN            47.0  ACTION,COMEDY,DRAMA            9.0   18983.0  "
      ]
     },
     "execution_count": 20,
     "metadata": {},
     "output_type": "execute_result"
    }
   ],
   "source": [
    "df.loc[df['numVotes'] == 18983]"
   ]
  },
  {
   "cell_type": "markdown",
   "metadata": {},
   "source": [
    "O registro encontrado é um episódio da série WandaVision, da Marvel. Podemos entender a quantidade de votos por conta do sucesso que a série teve na internet e fora dela. Infelizmente, essa base não retorna registros com o nome 'WANDAVISION' para conseguirmos ver a quantidade de votos da serie completa."
   ]
  },
  {
   "cell_type": "markdown",
   "metadata": {},
   "source": [
    "Também podemos checar quantos títulos dentro do nosso dataframe são adultos:"
   ]
  },
  {
   "cell_type": "code",
   "execution_count": 30,
   "metadata": {},
   "outputs": [
    {
     "data": {
      "text/plain": [
       "isAdult\n",
       "0    1903\n",
       "1      97\n",
       "Name: count, dtype: int64"
      ]
     },
     "execution_count": 30,
     "metadata": {},
     "output_type": "execute_result"
    }
   ],
   "source": [
    "is_adult = df['isAdult'].value_counts()\n",
    "is_adult.head()"
   ]
  },
  {
   "cell_type": "code",
   "execution_count": 31,
   "metadata": {},
   "outputs": [
    {
     "data": {
      "text/plain": [
       "isAdult\n",
       "0    95.15\n",
       "1     4.85\n",
       "Name: count, dtype: float64"
      ]
     },
     "execution_count": 31,
     "metadata": {},
     "output_type": "execute_result"
    }
   ],
   "source": [
    "porcentagem_adult = (is_adult / len(df)) * 100\n",
    "porcentagem_adult.head()"
   ]
  },
  {
   "cell_type": "markdown",
   "metadata": {},
   "source": [
    "Com 0 sendo classificação normal e 1 para adultos, conseguimos ter a noção que menos de 5% do nosso dataframe retornam títulos que são indicados para adultos, provavelmente com classificação +18. Daremos uma olhada no tipo de título esses filmes se encaixam:"
   ]
  },
  {
   "cell_type": "code",
   "execution_count": 36,
   "metadata": {},
   "outputs": [
    {
     "data": {
      "text/plain": [
       "titleType\n",
       "TVEPISODE    76\n",
       "VIDEO        20\n",
       "TVSERIES      1\n",
       "Name: count, dtype: int64"
      ]
     },
     "execution_count": 36,
     "metadata": {},
     "output_type": "execute_result"
    }
   ],
   "source": [
    "df_adult = df.loc[df['isAdult'] == 1]\n",
    "df_adult['titleType'].value_counts()"
   ]
  },
  {
   "cell_type": "markdown",
   "metadata": {},
   "source": [
    "Percebemos que muitos desses títulos vem de episódios de TV, o que podem se encaixar em séries e/ou programas adultos. Nosso dataframe não retorna nenhum filme com essa classificação."
   ]
  },
  {
   "cell_type": "markdown",
   "metadata": {},
   "source": [
    "Para finalizar a análise do nosso dataframe, sabemos que a coluna 'genres' também existe entre os registros, e que ela retorna os gêneros de cada título. Seria interessante sabermos qual dos gêneros é o mais frenquente, porém, para isso teremos que fazer um split nos registros da coluna genres, já que muitos retornam mais de um gênero separado por vírgula:"
   ]
  },
  {
   "cell_type": "code",
   "execution_count": 21,
   "metadata": {},
   "outputs": [
    {
     "data": {
      "text/plain": [
       "SHORT          468\n",
       "DRAMA          426\n",
       "COMEDY         382\n",
       "TALK-SHOW      234\n",
       "DOCUMENTARY    190\n",
       "NEWS           171\n",
       "ROMANCE        129\n",
       "FAMILY         120\n",
       "ADVENTURE      118\n",
       "ANIMATION      117\n",
       "Name: count, dtype: int64"
      ]
     },
     "execution_count": 21,
     "metadata": {},
     "output_type": "execute_result"
    }
   ],
   "source": [
    "df_genres = df['genres'].str.split(',', expand=True)\n",
    "count_genres = df_genres.stack().value_counts()\n",
    "\n",
    "count_genres.head(10)"
   ]
  },
  {
   "cell_type": "markdown",
   "metadata": {},
   "source": [
    "Após o gênero \"curta\", temos drama e comédia, que são gêneros mais clássicos. Muitas vezes, eles vem acompanhados de outros gêneros, e, por esse motivo, podem vir a aparecer mais do que outros. \n",
    "\n",
    "Sabendo quais são os gêneros com mais recorrência dentro do dataframe, podemos fazer uma média de notas, a variância e saber também qual seria a menor e maior nota de cada um dos gêneros, para isso, faremos uma função que pode nos ajudar a extrair essas informações dos nossos dados. Utilizaremos os cinco primeiros gêneros - Curta, Drama, Comédia, Talk-Show e Documentário:"
   ]
  },
  {
   "cell_type": "code",
   "execution_count": 27,
   "metadata": {},
   "outputs": [
    {
     "data": {
      "image/png": "[encoded data removed]",
      "text/plain": [
       "<Figure size 1000x500 with 5 Axes>"
      ]
     },
     "metadata": {},
     "output_type": "display_data"
    }
   ],
   "source": [
    "df_genres = df.assign(genres=df['genres'].str.split(',')).explode('genres')\n",
    "\n",
    "def get_statistics_genre(dataframe, genre):\n",
    "    # procurando o genero na coluna\n",
    "    df_genre = dataframe[dataframe['genres'].str.contains(genre, na=False)]\n",
    "    \n",
    "    # calculando estatisticas\n",
    "    mean = df_genre['averageRating'].mean()\n",
    "    max = df_genre['averageRating'].max()\n",
    "    min = df_genre['averageRating'].min()\n",
    "    var = df_genre['averageRating'].var()\n",
    "    \n",
    "    return mean, max, min, var\n",
    "\n",
    "genres = ['SHORT', 'DRAMA', 'COMEDY', 'TALK-SHOW', 'DOCUMENTARY']\n",
    "statistics = {}\n",
    "\n",
    "for genre in genres:\n",
    "    mean_rating, max_rating, min_rating, variance_rating = get_statistics_genre(df_genres, genre)\n",
    "    statistics[genre] = {'mean_rating': mean_rating, \n",
    "                         'max_rating': max_rating, \n",
    "                         'min_rating': min_rating, \n",
    "                         'variance_rating': variance_rating}\n",
    "\n",
    "fig, axs = plt.subplots(1, len(statistics), figsize=(10, 5))\n",
    "colors = ['#ff9999', '#66b3ff', '#99ff99', '#ffcc99', '#c2c2f0']\n",
    "for ax, (genre, stats), color in zip(axs, statistics.items(), colors):\n",
    "    ax.text(0.5, 0.5, f\"{genre}\\nMédia: {stats['mean_rating']:.2f}\\nMáximo: {stats['max_rating']:.1f}\\nMínimo: {stats['min_rating']:.1f}\\nVariância: {stats['variance_rating']:.2f}\",\n",
    "            horizontalalignment='center', \n",
    "            verticalalignment='center', \n",
    "            fontsize=17, bbox=dict(facecolor=color, alpha=0.5))\n",
    "    ax.axis('off')\n",
    "\n",
    "plt.tight_layout()\n",
    "plt.show()"
   ]
  },
  {
   "cell_type": "markdown",
   "metadata": {},
   "source": [
    "Ao olhar os resultados, conseguimos encontrar informações relevantes. A maior nota entre os gêneros é de 9.8, encontrada em títulos de Drama e Documentário - talvez essa nota pode se dar à seriedade dos gêneros, que geralmente abordam assuntos mais sérios. Já a menor nota fica com o gênero de curta - o que não podemos analisar muito bem, já que esse gênero é muito abrangente. \n",
    "\n",
    "Mas, a questão de abrangência do gênero também pode ser analisada dentro da variância: o gênero documentário tem a maior variância de notas, justamente pela abrangência de conteúdo existente para esse gênero - podemos ter um documetário biográfico, sobre crimes, experimentos ou até sobre bichinhos. Isso pode causar uma divergência de notas e, consequentemente, a variância ser maior. Já com Talk-Show, que é um gênero mais nichado e atinge um público especifico, temos as \"melhores\" notas, por assim dizer: baixa variância, a melhor média entre os cinco gêneros e uma boa nota mínima. \n",
    "\n",
    "Os gêneros Drama e Comédia, por sua vez, trazem informações bem parecidas. Talvez por serem gêneros que não são tão nichados e atingirem um público maior. Então, acabam \"entrando na média\" em todas os pontos."
   ]
  },
  {
   "cell_type": "markdown",
   "metadata": {},
   "source": [
    "Com isso, termino a análise desse dataframe. Conseguiriamos tirar mais informações do mesmo a partir dessas notas finais que encontramos, mas deixarei para uma análise futura. \n",
    "\n",
    "Atualmente, estou analisando o mesmo dataframe (porém completo) com Pyspark, e, conseguimos encontrar informações bem relevantes também. Como o Pandas é mais limitado, acabei decidindo por pegar apenas uma amostra do mesmo, onde já deu para ter uma noção das informações que podem ser encontradas dentro do mesmo."
   ]
  }
 ],
 "metadata": {
  "kernelspec": {
   "display_name": "Python 3",
   "language": "python",
   "name": "python3"
  },
  "language_info": {
   "codemirror_mode": {
    "name": "ipython",
    "version": 3
   },
   "file_extension": ".py",
   "mimetype": "text/x-python",
   "name": "python",
   "nbconvert_exporter": "python",
   "pygments_lexer": "ipython3",
   "version": "3.11.8"
  }
 },
 "nbformat": 4,
 "nbformat_minor": 2
}
